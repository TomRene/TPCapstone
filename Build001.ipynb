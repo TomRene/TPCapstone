{
 "cells": [
  {
   "cell_type": "code",
   "execution_count": 44,
   "metadata": {
    "collapsed": false
   },
   "outputs": [],
   "source": [
    "from yahoo_finance import Share\n",
    "import pandas as pd\n",
    "import matplotlib as plt\n",
    "import matplotlib.finance as pltf\n",
    "#import numpy as np\n",
    "\n",
    "#%pylab inline"
   ]
  },
  {
   "cell_type": "code",
   "execution_count": 45,
   "metadata": {
    "collapsed": true
   },
   "outputs": [],
   "source": [
    "security = Share('IBM')"
   ]
  },
  {
   "cell_type": "code",
   "execution_count": 46,
   "metadata": {
    "collapsed": false
   },
   "outputs": [],
   "source": [
    "df = security.get_historical('2016-02-27', '2016-04-07')"
   ]
  },
  {
   "cell_type": "code",
   "execution_count": 47,
   "metadata": {
    "collapsed": false
   },
   "outputs": [],
   "source": [
    "table1 = pd.DataFrame(df)"
   ]
  },
  {
   "cell_type": "code",
   "execution_count": 48,
   "metadata": {
    "collapsed": false
   },
   "outputs": [],
   "source": [
    "stock = table1[['Symbol', 'Date','Open', 'High','Low', 'Close']]"
   ]
  },
  {
   "cell_type": "code",
   "execution_count": 49,
   "metadata": {
    "collapsed": false
   },
   "outputs": [
    {
     "data": {
      "text/html": [
       "<div>\n",
       "<table border=\"1\" class=\"dataframe\">\n",
       "  <thead>\n",
       "    <tr style=\"text-align: right;\">\n",
       "      <th></th>\n",
       "      <th>Symbol</th>\n",
       "      <th>Date</th>\n",
       "      <th>Open</th>\n",
       "      <th>High</th>\n",
       "      <th>Low</th>\n",
       "      <th>Close</th>\n",
       "    </tr>\n",
       "  </thead>\n",
       "  <tbody>\n",
       "    <tr>\n",
       "      <th>0</th>\n",
       "      <td>IBM</td>\n",
       "      <td>2016-04-07</td>\n",
       "      <td>149.070007</td>\n",
       "      <td>149.600006</td>\n",
       "      <td>148.00</td>\n",
       "      <td>148.25</td>\n",
       "    </tr>\n",
       "    <tr>\n",
       "      <th>1</th>\n",
       "      <td>IBM</td>\n",
       "      <td>2016-04-06</td>\n",
       "      <td>149.899994</td>\n",
       "      <td>150.149994</td>\n",
       "      <td>147.809998</td>\n",
       "      <td>150.020004</td>\n",
       "    </tr>\n",
       "    <tr>\n",
       "      <th>2</th>\n",
       "      <td>IBM</td>\n",
       "      <td>2016-04-05</td>\n",
       "      <td>151.429993</td>\n",
       "      <td>151.600006</td>\n",
       "      <td>149.649994</td>\n",
       "      <td>150.00</td>\n",
       "    </tr>\n",
       "    <tr>\n",
       "      <th>3</th>\n",
       "      <td>IBM</td>\n",
       "      <td>2016-04-04</td>\n",
       "      <td>152.339996</td>\n",
       "      <td>153.520004</td>\n",
       "      <td>151.910004</td>\n",
       "      <td>152.070007</td>\n",
       "    </tr>\n",
       "    <tr>\n",
       "      <th>4</th>\n",
       "      <td>IBM</td>\n",
       "      <td>2016-04-01</td>\n",
       "      <td>150.509995</td>\n",
       "      <td>152.960007</td>\n",
       "      <td>150.25</td>\n",
       "      <td>152.520004</td>\n",
       "    </tr>\n",
       "  </tbody>\n",
       "</table>\n",
       "</div>"
      ],
      "text/plain": [
       "  Symbol        Date        Open        High         Low       Close\n",
       "0    IBM  2016-04-07  149.070007  149.600006      148.00      148.25\n",
       "1    IBM  2016-04-06  149.899994  150.149994  147.809998  150.020004\n",
       "2    IBM  2016-04-05  151.429993  151.600006  149.649994      150.00\n",
       "3    IBM  2016-04-04  152.339996  153.520004  151.910004  152.070007\n",
       "4    IBM  2016-04-01  150.509995  152.960007      150.25  152.520004"
      ]
     },
     "execution_count": 49,
     "metadata": {},
     "output_type": "execute_result"
    }
   ],
   "source": [
    "stock.head()"
   ]
  },
  {
   "cell_type": "code",
   "execution_count": 50,
   "metadata": {
    "collapsed": false
   },
   "outputs": [],
   "source": [
    "newstock = stock.sort_index(ascending=False)"
   ]
  },
  {
   "cell_type": "code",
   "execution_count": 51,
   "metadata": {
    "collapsed": false
   },
   "outputs": [
    {
     "data": {
      "text/html": [
       "<div>\n",
       "<table border=\"1\" class=\"dataframe\">\n",
       "  <thead>\n",
       "    <tr style=\"text-align: right;\">\n",
       "      <th></th>\n",
       "      <th>Symbol</th>\n",
       "      <th>Date</th>\n",
       "      <th>Open</th>\n",
       "      <th>High</th>\n",
       "      <th>Low</th>\n",
       "      <th>Close</th>\n",
       "    </tr>\n",
       "  </thead>\n",
       "  <tbody>\n",
       "    <tr>\n",
       "      <th>27</th>\n",
       "      <td>IBM</td>\n",
       "      <td>2016-02-29</td>\n",
       "      <td>132.00</td>\n",
       "      <td>133.360001</td>\n",
       "      <td>130.899994</td>\n",
       "      <td>131.029999</td>\n",
       "    </tr>\n",
       "    <tr>\n",
       "      <th>26</th>\n",
       "      <td>IBM</td>\n",
       "      <td>2016-03-01</td>\n",
       "      <td>132.240005</td>\n",
       "      <td>134.639999</td>\n",
       "      <td>132.029999</td>\n",
       "      <td>134.369995</td>\n",
       "    </tr>\n",
       "  </tbody>\n",
       "</table>\n",
       "</div>"
      ],
      "text/plain": [
       "   Symbol        Date        Open        High         Low       Close\n",
       "27    IBM  2016-02-29      132.00  133.360001  130.899994  131.029999\n",
       "26    IBM  2016-03-01  132.240005  134.639999  132.029999  134.369995"
      ]
     },
     "execution_count": 51,
     "metadata": {},
     "output_type": "execute_result"
    }
   ],
   "source": [
    "newstock.head(2)"
   ]
  },
  {
   "cell_type": "code",
   "execution_count": 52,
   "metadata": {
    "collapsed": false
   },
   "outputs": [],
   "source": [
    "#newstock.index = ['Date']\n",
    "indexed_stock = newstock.set_index('Date')\n",
    "#print(users.set_index('user_id').head())"
   ]
  },
  {
   "cell_type": "code",
   "execution_count": 53,
   "metadata": {
    "collapsed": false
   },
   "outputs": [
    {
     "data": {
      "text/html": [
       "<div>\n",
       "<table border=\"1\" class=\"dataframe\">\n",
       "  <thead>\n",
       "    <tr style=\"text-align: right;\">\n",
       "      <th></th>\n",
       "      <th>Symbol</th>\n",
       "      <th>Date</th>\n",
       "      <th>Open</th>\n",
       "      <th>High</th>\n",
       "      <th>Low</th>\n",
       "      <th>Close</th>\n",
       "    </tr>\n",
       "  </thead>\n",
       "  <tbody>\n",
       "    <tr>\n",
       "      <th>27</th>\n",
       "      <td>IBM</td>\n",
       "      <td>2016-02-29</td>\n",
       "      <td>132.00</td>\n",
       "      <td>133.360001</td>\n",
       "      <td>130.899994</td>\n",
       "      <td>131.029999</td>\n",
       "    </tr>\n",
       "    <tr>\n",
       "      <th>26</th>\n",
       "      <td>IBM</td>\n",
       "      <td>2016-03-01</td>\n",
       "      <td>132.240005</td>\n",
       "      <td>134.639999</td>\n",
       "      <td>132.029999</td>\n",
       "      <td>134.369995</td>\n",
       "    </tr>\n",
       "    <tr>\n",
       "      <th>25</th>\n",
       "      <td>IBM</td>\n",
       "      <td>2016-03-02</td>\n",
       "      <td>133.699997</td>\n",
       "      <td>137.440002</td>\n",
       "      <td>133.220001</td>\n",
       "      <td>136.300003</td>\n",
       "    </tr>\n",
       "    <tr>\n",
       "      <th>24</th>\n",
       "      <td>IBM</td>\n",
       "      <td>2016-03-03</td>\n",
       "      <td>137.220001</td>\n",
       "      <td>137.960007</td>\n",
       "      <td>136.070007</td>\n",
       "      <td>137.800003</td>\n",
       "    </tr>\n",
       "    <tr>\n",
       "      <th>23</th>\n",
       "      <td>IBM</td>\n",
       "      <td>2016-03-04</td>\n",
       "      <td>137.539993</td>\n",
       "      <td>139.419998</td>\n",
       "      <td>137.020004</td>\n",
       "      <td>137.800003</td>\n",
       "    </tr>\n",
       "  </tbody>\n",
       "</table>\n",
       "</div>"
      ],
      "text/plain": [
       "   Symbol        Date        Open        High         Low       Close\n",
       "27    IBM  2016-02-29      132.00  133.360001  130.899994  131.029999\n",
       "26    IBM  2016-03-01  132.240005  134.639999  132.029999  134.369995\n",
       "25    IBM  2016-03-02  133.699997  137.440002  133.220001  136.300003\n",
       "24    IBM  2016-03-03  137.220001  137.960007  136.070007  137.800003\n",
       "23    IBM  2016-03-04  137.539993  139.419998  137.020004  137.800003"
      ]
     },
     "execution_count": 53,
     "metadata": {},
     "output_type": "execute_result"
    }
   ],
   "source": [
    "newstock.head()"
   ]
  },
  {
   "cell_type": "code",
   "execution_count": 54,
   "metadata": {
    "collapsed": false
   },
   "outputs": [
    {
     "ename": "AttributeError",
     "evalue": "'module' object has no attribute 'plot'",
     "output_type": "error",
     "traceback": [
      "\u001b[0;31m---------------------------------------------------------------------------\u001b[0m",
      "\u001b[0;31mAttributeError\u001b[0m                            Traceback (most recent call last)",
      "\u001b[0;32m<ipython-input-54-fd85f9b5cd9e>\u001b[0m in \u001b[0;36m<module>\u001b[0;34m()\u001b[0m\n\u001b[0;32m----> 1\u001b[0;31m \u001b[0mplt\u001b[0m\u001b[0;34m.\u001b[0m\u001b[0mplot\u001b[0m\u001b[0;34m(\u001b[0m\u001b[0mnewstock\u001b[0m\u001b[0;34m[\u001b[0m\u001b[0;34m'Low'\u001b[0m\u001b[0;34m]\u001b[0m\u001b[0;34m)\u001b[0m\u001b[0;34m\u001b[0m\u001b[0m\n\u001b[0m",
      "\u001b[0;31mAttributeError\u001b[0m: 'module' object has no attribute 'plot'"
     ]
    }
   ],
   "source": [
    "plt.plot(newstock['Low'])"
   ]
  },
  {
   "cell_type": "code",
   "execution_count": 55,
   "metadata": {
    "collapsed": false
   },
   "outputs": [
    {
     "data": {
      "text/plain": [
       "(<matplotlib.collections.LineCollection at 0x11a1e15d0>,\n",
       " <matplotlib.collections.LineCollection at 0x11a1e1790>,\n",
       " <matplotlib.collections.LineCollection at 0x11a1e1f90>)"
      ]
     },
     "execution_count": 55,
     "metadata": {},
     "output_type": "execute_result"
    },
    {
     "data": {
      "image/png": "[encoded data removed]",
      "text/plain": [
       "<matplotlib.figure.Figure at 0x119d1ad90>"
      ]
     },
     "metadata": {},
     "output_type": "display_data"
    }
   ],
   "source": [
    "ax1 = plt.pyplot.subplot(1,1,1, axisbg='#191919')\n",
    "pltf.plot_day_summary2_ohlc(ax1, newstock.Open, newstock.High, newstock.Low, newstock.Close, colorup='w', colordown='r')"
   ]
  },
  {
   "cell_type": "code",
   "execution_count": null,
   "metadata": {
    "collapsed": true
   },
   "outputs": [],
   "source": []
  }
 ],
 "metadata": {
  "kernelspec": {
   "display_name": "Python 2",
   "language": "python",
   "name": "python2"
  },
  "language_info": {
   "codemirror_mode": {
    "name": "ipython",
    "version": 2
   },
   "file_extension": ".py",
   "mimetype": "text/x-python",
   "name": "python",
   "nbconvert_exporter": "python",
   "pygments_lexer": "ipython2",
   "version": "2.7.11"
  }
 },
 "nbformat": 4,
 "nbformat_minor": 0
}
