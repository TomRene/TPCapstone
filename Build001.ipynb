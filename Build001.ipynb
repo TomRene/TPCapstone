{
 "cells": [
  {
   "cell_type": "code",
   "execution_count": 1,
   "metadata": {
    "collapsed": false
   },
   "outputs": [
    {
     "name": "stdout",
     "output_type": "stream",
     "text": [
      "Populating the interactive namespace from numpy and matplotlib\n"
     ]
    }
   ],
   "source": [
    "%pylab inline\n",
    "from yahoo_finance import Share\n",
    "import pandas as pd\n",
    "import matplotlib.pyplot as plt\n",
    "import matplotlib.finance as pltf\n",
    "import numpy as np\n",
    "import random as rd\n"
   ]
  },
  {
   "cell_type": "code",
   "execution_count": 2,
   "metadata": {
    "collapsed": true
   },
   "outputs": [],
   "source": [
    "# Start with one stock and the yahoo_finance function Share.\n",
    "load = 'IBM'\n",
    "security = Share(load)"
   ]
  },
  {
   "cell_type": "code",
   "execution_count": null,
   "metadata": {
    "collapsed": false
   },
   "outputs": [],
   "source": [
    "# Use yahoo_finance module function to pull in historical stock data of Open High\n",
    "# Low and Closes.\n",
    "# (Note this process was run once and **IS NOT REPEATED HERE** since it took ~2mn to get \n",
    "# all the historical data)\n",
    "stocktable = security.get_historical('1960-04-01', '2016-04-20')"
   ]
  },
  {
   "cell_type": "code",
   "execution_count": null,
   "metadata": {
    "collapsed": true
   },
   "outputs": [],
   "source": [
    "# Save historical to CSV file. [ditto as for previous step - THIS STEP NOT REPEATED HERE]\n",
    "stocktable.to_csv('/Users/tompichard/Documents/Personal/NEWPERSONAL/GADS/1.CAPSTONE/DevFiles/DATA/' + load + '.csv')"
   ]
  },
  {
   "cell_type": "code",
   "execution_count": 3,
   "metadata": {
    "collapsed": false
   },
   "outputs": [],
   "source": [
    "# Read the historical data into a Pandas dataframel\n",
    "stocktable = pd.read_csv('/Users/tompichard/Documents/Personal/NEWPERSONAL/GADS/1.CAPSTONE/DevFiles/DATA/' + load + '.csv')\n",
    "#/Users/tompichard/Documents/Personal/NEWPERSONAL/GADS/1.CAPSTONE/DevFiles/DATA/IBM.csv "
   ]
  },
  {
   "cell_type": "code",
   "execution_count": 4,
   "metadata": {
    "collapsed": false
   },
   "outputs": [
    {
     "data": {
      "text/html": [
       "<div>\n",
       "<table border=\"1\" class=\"dataframe\">\n",
       "  <thead>\n",
       "    <tr style=\"text-align: right;\">\n",
       "      <th></th>\n",
       "      <th>Unnamed: 0</th>\n",
       "      <th>Adj_Close</th>\n",
       "      <th>Close</th>\n",
       "      <th>Date</th>\n",
       "      <th>High</th>\n",
       "      <th>Low</th>\n",
       "      <th>Open</th>\n",
       "      <th>Symbol</th>\n",
       "      <th>Volume</th>\n",
       "    </tr>\n",
       "  </thead>\n",
       "  <tbody>\n",
       "    <tr>\n",
       "      <th>0</th>\n",
       "      <td>0</td>\n",
       "      <td>146.110001</td>\n",
       "      <td>146.110001</td>\n",
       "      <td>2016-04-20</td>\n",
       "      <td>147.199997</td>\n",
       "      <td>144.000000</td>\n",
       "      <td>144.240005</td>\n",
       "      <td>IBM</td>\n",
       "      <td>6710500</td>\n",
       "    </tr>\n",
       "    <tr>\n",
       "      <th>1</th>\n",
       "      <td>1</td>\n",
       "      <td>144.000000</td>\n",
       "      <td>144.000000</td>\n",
       "      <td>2016-04-19</td>\n",
       "      <td>146.949997</td>\n",
       "      <td>142.610001</td>\n",
       "      <td>146.470001</td>\n",
       "      <td>IBM</td>\n",
       "      <td>13125200</td>\n",
       "    </tr>\n",
       "    <tr>\n",
       "      <th>2</th>\n",
       "      <td>2</td>\n",
       "      <td>152.529999</td>\n",
       "      <td>152.529999</td>\n",
       "      <td>2016-04-18</td>\n",
       "      <td>153.139999</td>\n",
       "      <td>151.490005</td>\n",
       "      <td>151.720001</td>\n",
       "      <td>IBM</td>\n",
       "      <td>5737700</td>\n",
       "    </tr>\n",
       "    <tr>\n",
       "      <th>3</th>\n",
       "      <td>3</td>\n",
       "      <td>151.720001</td>\n",
       "      <td>151.720001</td>\n",
       "      <td>2016-04-15</td>\n",
       "      <td>152.100006</td>\n",
       "      <td>150.960007</td>\n",
       "      <td>151.039993</td>\n",
       "      <td>IBM</td>\n",
       "      <td>3522400</td>\n",
       "    </tr>\n",
       "    <tr>\n",
       "      <th>4</th>\n",
       "      <td>4</td>\n",
       "      <td>151.160004</td>\n",
       "      <td>151.160004</td>\n",
       "      <td>2016-04-14</td>\n",
       "      <td>152.759995</td>\n",
       "      <td>150.380005</td>\n",
       "      <td>151.500000</td>\n",
       "      <td>IBM</td>\n",
       "      <td>3158400</td>\n",
       "    </tr>\n",
       "  </tbody>\n",
       "</table>\n",
       "</div>"
      ],
      "text/plain": [
       "   Unnamed: 0   Adj_Close       Close        Date        High         Low  \\\n",
       "0           0  146.110001  146.110001  2016-04-20  147.199997  144.000000   \n",
       "1           1  144.000000  144.000000  2016-04-19  146.949997  142.610001   \n",
       "2           2  152.529999  152.529999  2016-04-18  153.139999  151.490005   \n",
       "3           3  151.720001  151.720001  2016-04-15  152.100006  150.960007   \n",
       "4           4  151.160004  151.160004  2016-04-14  152.759995  150.380005   \n",
       "\n",
       "         Open Symbol    Volume  \n",
       "0  144.240005    IBM   6710500  \n",
       "1  146.470001    IBM  13125200  \n",
       "2  151.720001    IBM   5737700  \n",
       "3  151.039993    IBM   3522400  \n",
       "4  151.500000    IBM   3158400  "
      ]
     },
     "execution_count": 4,
     "metadata": {},
     "output_type": "execute_result"
    }
   ],
   "source": [
    "# Show the head. Note the index starts with the latest date.\n",
    "# We will need to make the index start chronologically from the beginning day in the series\n",
    "# so that plotting can go left to right in a chronological order. fyi the Unnamed column came\n",
    "# natively with the yahoo.finance.get.historical function.\n",
    "stocktable.head()"
   ]
  },
  {
   "cell_type": "code",
   "execution_count": 5,
   "metadata": {
    "collapsed": false
   },
   "outputs": [
    {
     "data": {
      "text/html": [
       "<div>\n",
       "<table border=\"1\" class=\"dataframe\">\n",
       "  <thead>\n",
       "    <tr style=\"text-align: right;\">\n",
       "      <th></th>\n",
       "      <th>Unnamed: 0</th>\n",
       "      <th>Adj_Close</th>\n",
       "      <th>Close</th>\n",
       "      <th>Date</th>\n",
       "      <th>High</th>\n",
       "      <th>Low</th>\n",
       "      <th>Open</th>\n",
       "      <th>Symbol</th>\n",
       "      <th>Volume</th>\n",
       "      <th>NewIndex</th>\n",
       "    </tr>\n",
       "  </thead>\n",
       "  <tbody>\n",
       "    <tr>\n",
       "      <th>0</th>\n",
       "      <td>0</td>\n",
       "      <td>146.110001</td>\n",
       "      <td>146.110001</td>\n",
       "      <td>2016-04-20</td>\n",
       "      <td>147.199997</td>\n",
       "      <td>144.000000</td>\n",
       "      <td>144.240005</td>\n",
       "      <td>IBM</td>\n",
       "      <td>6710500</td>\n",
       "      <td>0</td>\n",
       "    </tr>\n",
       "    <tr>\n",
       "      <th>1</th>\n",
       "      <td>1</td>\n",
       "      <td>144.000000</td>\n",
       "      <td>144.000000</td>\n",
       "      <td>2016-04-19</td>\n",
       "      <td>146.949997</td>\n",
       "      <td>142.610001</td>\n",
       "      <td>146.470001</td>\n",
       "      <td>IBM</td>\n",
       "      <td>13125200</td>\n",
       "      <td>0</td>\n",
       "    </tr>\n",
       "    <tr>\n",
       "      <th>2</th>\n",
       "      <td>2</td>\n",
       "      <td>152.529999</td>\n",
       "      <td>152.529999</td>\n",
       "      <td>2016-04-18</td>\n",
       "      <td>153.139999</td>\n",
       "      <td>151.490005</td>\n",
       "      <td>151.720001</td>\n",
       "      <td>IBM</td>\n",
       "      <td>5737700</td>\n",
       "      <td>0</td>\n",
       "    </tr>\n",
       "  </tbody>\n",
       "</table>\n",
       "</div>"
      ],
      "text/plain": [
       "   Unnamed: 0   Adj_Close       Close        Date        High         Low  \\\n",
       "0           0  146.110001  146.110001  2016-04-20  147.199997  144.000000   \n",
       "1           1  144.000000  144.000000  2016-04-19  146.949997  142.610001   \n",
       "2           2  152.529999  152.529999  2016-04-18  153.139999  151.490005   \n",
       "\n",
       "         Open Symbol    Volume  NewIndex  \n",
       "0  144.240005    IBM   6710500         0  \n",
       "1  146.470001    IBM  13125200         0  \n",
       "2  151.720001    IBM   5737700         0  "
      ]
     },
     "execution_count": 5,
     "metadata": {},
     "output_type": "execute_result"
    }
   ],
   "source": [
    "# Create and seed the new index colum that will be used to reorder and resort the original dataframe.\n",
    "stocktable['NewIndex'] = 0\n",
    "stocktable.head(3)"
   ]
  },
  {
   "cell_type": "code",
   "execution_count": 6,
   "metadata": {
    "collapsed": false
   },
   "outputs": [
    {
     "data": {
      "text/html": [
       "<div>\n",
       "<table border=\"1\" class=\"dataframe\">\n",
       "  <thead>\n",
       "    <tr style=\"text-align: right;\">\n",
       "      <th></th>\n",
       "      <th>Unnamed: 0</th>\n",
       "      <th>Adj_Close</th>\n",
       "      <th>Close</th>\n",
       "      <th>Date</th>\n",
       "      <th>High</th>\n",
       "      <th>Low</th>\n",
       "      <th>Open</th>\n",
       "      <th>Symbol</th>\n",
       "      <th>Volume</th>\n",
       "      <th>NewIndex</th>\n",
       "    </tr>\n",
       "  </thead>\n",
       "  <tbody>\n",
       "    <tr>\n",
       "      <th>0</th>\n",
       "      <td>0</td>\n",
       "      <td>146.110001</td>\n",
       "      <td>146.110001</td>\n",
       "      <td>2016-04-20</td>\n",
       "      <td>147.199997</td>\n",
       "      <td>144.000000</td>\n",
       "      <td>144.240005</td>\n",
       "      <td>IBM</td>\n",
       "      <td>6710500</td>\n",
       "      <td>13668</td>\n",
       "    </tr>\n",
       "    <tr>\n",
       "      <th>1</th>\n",
       "      <td>1</td>\n",
       "      <td>144.000000</td>\n",
       "      <td>144.000000</td>\n",
       "      <td>2016-04-19</td>\n",
       "      <td>146.949997</td>\n",
       "      <td>142.610001</td>\n",
       "      <td>146.470001</td>\n",
       "      <td>IBM</td>\n",
       "      <td>13125200</td>\n",
       "      <td>13667</td>\n",
       "    </tr>\n",
       "    <tr>\n",
       "      <th>2</th>\n",
       "      <td>2</td>\n",
       "      <td>152.529999</td>\n",
       "      <td>152.529999</td>\n",
       "      <td>2016-04-18</td>\n",
       "      <td>153.139999</td>\n",
       "      <td>151.490005</td>\n",
       "      <td>151.720001</td>\n",
       "      <td>IBM</td>\n",
       "      <td>5737700</td>\n",
       "      <td>13666</td>\n",
       "    </tr>\n",
       "    <tr>\n",
       "      <th>3</th>\n",
       "      <td>3</td>\n",
       "      <td>151.720001</td>\n",
       "      <td>151.720001</td>\n",
       "      <td>2016-04-15</td>\n",
       "      <td>152.100006</td>\n",
       "      <td>150.960007</td>\n",
       "      <td>151.039993</td>\n",
       "      <td>IBM</td>\n",
       "      <td>3522400</td>\n",
       "      <td>13665</td>\n",
       "    </tr>\n",
       "    <tr>\n",
       "      <th>4</th>\n",
       "      <td>4</td>\n",
       "      <td>151.160004</td>\n",
       "      <td>151.160004</td>\n",
       "      <td>2016-04-14</td>\n",
       "      <td>152.759995</td>\n",
       "      <td>150.380005</td>\n",
       "      <td>151.500000</td>\n",
       "      <td>IBM</td>\n",
       "      <td>3158400</td>\n",
       "      <td>13664</td>\n",
       "    </tr>\n",
       "  </tbody>\n",
       "</table>\n",
       "</div>"
      ],
      "text/plain": [
       "   Unnamed: 0   Adj_Close       Close        Date        High         Low  \\\n",
       "0           0  146.110001  146.110001  2016-04-20  147.199997  144.000000   \n",
       "1           1  144.000000  144.000000  2016-04-19  146.949997  142.610001   \n",
       "2           2  152.529999  152.529999  2016-04-18  153.139999  151.490005   \n",
       "3           3  151.720001  151.720001  2016-04-15  152.100006  150.960007   \n",
       "4           4  151.160004  151.160004  2016-04-14  152.759995  150.380005   \n",
       "\n",
       "         Open Symbol    Volume  NewIndex  \n",
       "0  144.240005    IBM   6710500     13668  \n",
       "1  146.470001    IBM  13125200     13667  \n",
       "2  151.720001    IBM   5737700     13666  \n",
       "3  151.039993    IBM   3522400     13665  \n",
       "4  151.500000    IBM   3158400     13664  "
      ]
     },
     "execution_count": 6,
     "metadata": {},
     "output_type": "execute_result"
    }
   ],
   "source": [
    "# set the NewIndex in reverse using the length of the file (in rows) so that the first record will be the \n",
    "# oldest date and progress forward from the top of the file. This will also enable charting which goes\n",
    "# from left to right with earliest date to the left.\n",
    "stocktable.NewIndex = max(stocktable.index) - range(len(stocktable))\n",
    "stocktable.head()"
   ]
  },
  {
   "cell_type": "code",
   "execution_count": 7,
   "metadata": {
    "collapsed": false
   },
   "outputs": [
    {
     "data": {
      "text/html": [
       "<div>\n",
       "<table border=\"1\" class=\"dataframe\">\n",
       "  <thead>\n",
       "    <tr style=\"text-align: right;\">\n",
       "      <th></th>\n",
       "      <th>Unnamed: 0</th>\n",
       "      <th>Adj_Close</th>\n",
       "      <th>Close</th>\n",
       "      <th>Date</th>\n",
       "      <th>High</th>\n",
       "      <th>Low</th>\n",
       "      <th>Open</th>\n",
       "      <th>Symbol</th>\n",
       "      <th>Volume</th>\n",
       "      <th>NewIndex</th>\n",
       "    </tr>\n",
       "  </thead>\n",
       "  <tbody>\n",
       "    <tr>\n",
       "      <th>13664</th>\n",
       "      <td>13664</td>\n",
       "      <td>2.231525</td>\n",
       "      <td>549.500263</td>\n",
       "      <td>1962-01-08</td>\n",
       "      <td>559.500003</td>\n",
       "      <td>545.000267</td>\n",
       "      <td>559.500003</td>\n",
       "      <td>IBM</td>\n",
       "      <td>544000</td>\n",
       "      <td>4</td>\n",
       "    </tr>\n",
       "    <tr>\n",
       "      <th>13665</th>\n",
       "      <td>13665</td>\n",
       "      <td>2.274166</td>\n",
       "      <td>560.000253</td>\n",
       "      <td>1962-01-05</td>\n",
       "      <td>570.500243</td>\n",
       "      <td>558.999753</td>\n",
       "      <td>570.500243</td>\n",
       "      <td>IBM</td>\n",
       "      <td>363200</td>\n",
       "      <td>3</td>\n",
       "    </tr>\n",
       "    <tr>\n",
       "      <th>13666</th>\n",
       "      <td>13666</td>\n",
       "      <td>2.319852</td>\n",
       "      <td>571.250260</td>\n",
       "      <td>1962-01-04</td>\n",
       "      <td>576.999736</td>\n",
       "      <td>570.999742</td>\n",
       "      <td>576.999736</td>\n",
       "      <td>IBM</td>\n",
       "      <td>256000</td>\n",
       "      <td>2</td>\n",
       "    </tr>\n",
       "    <tr>\n",
       "      <th>13667</th>\n",
       "      <td>13667</td>\n",
       "      <td>2.343201</td>\n",
       "      <td>576.999736</td>\n",
       "      <td>1962-01-03</td>\n",
       "      <td>576.999736</td>\n",
       "      <td>572.000241</td>\n",
       "      <td>572.000241</td>\n",
       "      <td>IBM</td>\n",
       "      <td>288000</td>\n",
       "      <td>1</td>\n",
       "    </tr>\n",
       "    <tr>\n",
       "      <th>13668</th>\n",
       "      <td>13668</td>\n",
       "      <td>2.322898</td>\n",
       "      <td>572.000241</td>\n",
       "      <td>1962-01-02</td>\n",
       "      <td>578.499734</td>\n",
       "      <td>572.000241</td>\n",
       "      <td>578.499734</td>\n",
       "      <td>IBM</td>\n",
       "      <td>387200</td>\n",
       "      <td>0</td>\n",
       "    </tr>\n",
       "  </tbody>\n",
       "</table>\n",
       "</div>"
      ],
      "text/plain": [
       "       Unnamed: 0  Adj_Close       Close        Date        High         Low  \\\n",
       "13664       13664   2.231525  549.500263  1962-01-08  559.500003  545.000267   \n",
       "13665       13665   2.274166  560.000253  1962-01-05  570.500243  558.999753   \n",
       "13666       13666   2.319852  571.250260  1962-01-04  576.999736  570.999742   \n",
       "13667       13667   2.343201  576.999736  1962-01-03  576.999736  572.000241   \n",
       "13668       13668   2.322898  572.000241  1962-01-02  578.499734  572.000241   \n",
       "\n",
       "             Open Symbol  Volume  NewIndex  \n",
       "13664  559.500003    IBM  544000         4  \n",
       "13665  570.500243    IBM  363200         3  \n",
       "13666  576.999736    IBM  256000         2  \n",
       "13667  572.000241    IBM  288000         1  \n",
       "13668  578.499734    IBM  387200         0  "
      ]
     },
     "execution_count": 7,
     "metadata": {},
     "output_type": "execute_result"
    }
   ],
   "source": [
    "# Check the end of the NewIndex dataframe to confirm operation that the earliest date is now the\n",
    "# beginning of the NewIndex.\n",
    "\n",
    "stocktable.tail()\n"
   ]
  },
  {
   "cell_type": "code",
   "execution_count": 8,
   "metadata": {
    "collapsed": false
   },
   "outputs": [
    {
     "data": {
      "text/html": [
       "<div>\n",
       "<table border=\"1\" class=\"dataframe\">\n",
       "  <thead>\n",
       "    <tr style=\"text-align: right;\">\n",
       "      <th></th>\n",
       "      <th>Unnamed: 0</th>\n",
       "      <th>Adj_Close</th>\n",
       "      <th>Close</th>\n",
       "      <th>Date</th>\n",
       "      <th>High</th>\n",
       "      <th>Low</th>\n",
       "      <th>Open</th>\n",
       "      <th>Symbol</th>\n",
       "      <th>Volume</th>\n",
       "    </tr>\n",
       "    <tr>\n",
       "      <th>NewIndex</th>\n",
       "      <th></th>\n",
       "      <th></th>\n",
       "      <th></th>\n",
       "      <th></th>\n",
       "      <th></th>\n",
       "      <th></th>\n",
       "      <th></th>\n",
       "      <th></th>\n",
       "      <th></th>\n",
       "    </tr>\n",
       "  </thead>\n",
       "  <tbody>\n",
       "    <tr>\n",
       "      <th>0</th>\n",
       "      <td>13668</td>\n",
       "      <td>2.322898</td>\n",
       "      <td>572.000241</td>\n",
       "      <td>1962-01-02</td>\n",
       "      <td>578.499734</td>\n",
       "      <td>572.000241</td>\n",
       "      <td>578.499734</td>\n",
       "      <td>IBM</td>\n",
       "      <td>387200</td>\n",
       "    </tr>\n",
       "    <tr>\n",
       "      <th>1</th>\n",
       "      <td>13667</td>\n",
       "      <td>2.343201</td>\n",
       "      <td>576.999736</td>\n",
       "      <td>1962-01-03</td>\n",
       "      <td>576.999736</td>\n",
       "      <td>572.000241</td>\n",
       "      <td>572.000241</td>\n",
       "      <td>IBM</td>\n",
       "      <td>288000</td>\n",
       "    </tr>\n",
       "    <tr>\n",
       "      <th>2</th>\n",
       "      <td>13666</td>\n",
       "      <td>2.319852</td>\n",
       "      <td>571.250260</td>\n",
       "      <td>1962-01-04</td>\n",
       "      <td>576.999736</td>\n",
       "      <td>570.999742</td>\n",
       "      <td>576.999736</td>\n",
       "      <td>IBM</td>\n",
       "      <td>256000</td>\n",
       "    </tr>\n",
       "    <tr>\n",
       "      <th>3</th>\n",
       "      <td>13665</td>\n",
       "      <td>2.274166</td>\n",
       "      <td>560.000253</td>\n",
       "      <td>1962-01-05</td>\n",
       "      <td>570.500243</td>\n",
       "      <td>558.999753</td>\n",
       "      <td>570.500243</td>\n",
       "      <td>IBM</td>\n",
       "      <td>363200</td>\n",
       "    </tr>\n",
       "    <tr>\n",
       "      <th>4</th>\n",
       "      <td>13664</td>\n",
       "      <td>2.231525</td>\n",
       "      <td>549.500263</td>\n",
       "      <td>1962-01-08</td>\n",
       "      <td>559.500003</td>\n",
       "      <td>545.000267</td>\n",
       "      <td>559.500003</td>\n",
       "      <td>IBM</td>\n",
       "      <td>544000</td>\n",
       "    </tr>\n",
       "  </tbody>\n",
       "</table>\n",
       "</div>"
      ],
      "text/plain": [
       "          Unnamed: 0  Adj_Close       Close        Date        High  \\\n",
       "NewIndex                                                              \n",
       "0              13668   2.322898  572.000241  1962-01-02  578.499734   \n",
       "1              13667   2.343201  576.999736  1962-01-03  576.999736   \n",
       "2              13666   2.319852  571.250260  1962-01-04  576.999736   \n",
       "3              13665   2.274166  560.000253  1962-01-05  570.500243   \n",
       "4              13664   2.231525  549.500263  1962-01-08  559.500003   \n",
       "\n",
       "                 Low        Open Symbol  Volume  \n",
       "NewIndex                                         \n",
       "0         572.000241  578.499734    IBM  387200  \n",
       "1         572.000241  572.000241    IBM  288000  \n",
       "2         570.999742  576.999736    IBM  256000  \n",
       "3         558.999753  570.500243    IBM  363200  \n",
       "4         545.000267  559.500003    IBM  544000  "
      ]
     },
     "execution_count": 8,
     "metadata": {},
     "output_type": "execute_result"
    }
   ],
   "source": [
    "# Set the new dataframe (stocktable2) and its index and permanently resort that index.\n",
    "\n",
    "stocktable2 = stocktable.set_index(['NewIndex'])\n",
    "stocktable2.sort_index(inplace=True)\n",
    "stocktable2.head()\n"
   ]
  },
  {
   "cell_type": "code",
   "execution_count": 9,
   "metadata": {
    "collapsed": false
   },
   "outputs": [
    {
     "data": {
      "text/html": [
       "<div>\n",
       "<table border=\"1\" class=\"dataframe\">\n",
       "  <thead>\n",
       "    <tr style=\"text-align: right;\">\n",
       "      <th></th>\n",
       "      <th>Date</th>\n",
       "      <th>Symbol</th>\n",
       "      <th>Open</th>\n",
       "      <th>High</th>\n",
       "      <th>Low</th>\n",
       "      <th>Close</th>\n",
       "      <th>Adj_Close</th>\n",
       "    </tr>\n",
       "    <tr>\n",
       "      <th>NewIndex</th>\n",
       "      <th></th>\n",
       "      <th></th>\n",
       "      <th></th>\n",
       "      <th></th>\n",
       "      <th></th>\n",
       "      <th></th>\n",
       "      <th></th>\n",
       "    </tr>\n",
       "  </thead>\n",
       "  <tbody>\n",
       "    <tr>\n",
       "      <th>0</th>\n",
       "      <td>1962-01-02</td>\n",
       "      <td>IBM</td>\n",
       "      <td>578.499734</td>\n",
       "      <td>578.499734</td>\n",
       "      <td>572.000241</td>\n",
       "      <td>572.000241</td>\n",
       "      <td>2.322898</td>\n",
       "    </tr>\n",
       "    <tr>\n",
       "      <th>1</th>\n",
       "      <td>1962-01-03</td>\n",
       "      <td>IBM</td>\n",
       "      <td>572.000241</td>\n",
       "      <td>576.999736</td>\n",
       "      <td>572.000241</td>\n",
       "      <td>576.999736</td>\n",
       "      <td>2.343201</td>\n",
       "    </tr>\n",
       "    <tr>\n",
       "      <th>2</th>\n",
       "      <td>1962-01-04</td>\n",
       "      <td>IBM</td>\n",
       "      <td>576.999736</td>\n",
       "      <td>576.999736</td>\n",
       "      <td>570.999742</td>\n",
       "      <td>571.250260</td>\n",
       "      <td>2.319852</td>\n",
       "    </tr>\n",
       "  </tbody>\n",
       "</table>\n",
       "</div>"
      ],
      "text/plain": [
       "                Date Symbol        Open        High         Low       Close  \\\n",
       "NewIndex                                                                      \n",
       "0         1962-01-02    IBM  578.499734  578.499734  572.000241  572.000241   \n",
       "1         1962-01-03    IBM  572.000241  576.999736  572.000241  576.999736   \n",
       "2         1962-01-04    IBM  576.999736  576.999736  570.999742  571.250260   \n",
       "\n",
       "          Adj_Close  \n",
       "NewIndex             \n",
       "0          2.322898  \n",
       "1          2.343201  \n",
       "2          2.319852  "
      ]
     },
     "execution_count": 9,
     "metadata": {},
     "output_type": "execute_result"
    }
   ],
   "source": [
    "# Remove unwanted columns.\n",
    "\n",
    "stocktable2 = stocktable2[['Date', 'Symbol', 'Open', 'High', 'Low', 'Close', 'Adj_Close']]\n",
    "stocktable2.head(3)\n"
   ]
  },
  {
   "cell_type": "code",
   "execution_count": 10,
   "metadata": {
    "collapsed": true
   },
   "outputs": [],
   "source": [
    "# Define the functions that will need to be called to transform the historical Open, High and Lows\n",
    "# into historically relevant prices based on the 'governing' Adj_Close values which provide a\n",
    "# continuously adjusted price series over time unlike the existing Open, High and Lows which are \n",
    "# expressed to conform to the current day valuation levels of the stock.\n",
    "\n",
    "def newlow(x):\n",
    "    if x['Adj_Close'] != x['Close']:\n",
    "        return x['Low'] / (x['Close'] / x['Adj_Close'])\n",
    "    else:\n",
    "        return x['Low']\n",
    "    \n",
    "def newopen(x):\n",
    "    if x['Adj_Close'] != x['Close']:\n",
    "        return x['Open'] / (x['Close'] / x['Adj_Close'])\n",
    "    else:\n",
    "        return x['Open']\n",
    "    \n",
    "def newhigh(x):\n",
    "    if x['Adj_Close'] != x['Close']:\n",
    "        return x['High'] / (x['Close'] / x['Adj_Close'])\n",
    "    else:\n",
    "        return x['High']\n"
   ]
  },
  {
   "cell_type": "code",
   "execution_count": 11,
   "metadata": {
    "collapsed": true
   },
   "outputs": [],
   "source": [
    "# Run these functions and apply them to new Open, High and Low colums (NOpen, NHigh, Nlow):\n",
    "\n",
    "stocktable2['NOpen'] = stocktable2.apply(newopen, axis=1)\n",
    "stocktable2['NHigh'] = stocktable2.apply(newhigh, axis=1)\n",
    "stocktable2['NLow'] = stocktable2.apply(newlow, axis=1)\n"
   ]
  },
  {
   "cell_type": "code",
   "execution_count": 12,
   "metadata": {
    "collapsed": false
   },
   "outputs": [
    {
     "data": {
      "text/html": [
       "<div>\n",
       "<table border=\"1\" class=\"dataframe\">\n",
       "  <thead>\n",
       "    <tr style=\"text-align: right;\">\n",
       "      <th></th>\n",
       "      <th>Date</th>\n",
       "      <th>Symbol</th>\n",
       "      <th>Open</th>\n",
       "      <th>High</th>\n",
       "      <th>Low</th>\n",
       "      <th>Close</th>\n",
       "      <th>Adj_Close</th>\n",
       "      <th>NOpen</th>\n",
       "      <th>NHigh</th>\n",
       "      <th>NLow</th>\n",
       "    </tr>\n",
       "    <tr>\n",
       "      <th>NewIndex</th>\n",
       "      <th></th>\n",
       "      <th></th>\n",
       "      <th></th>\n",
       "      <th></th>\n",
       "      <th></th>\n",
       "      <th></th>\n",
       "      <th></th>\n",
       "      <th></th>\n",
       "      <th></th>\n",
       "      <th></th>\n",
       "    </tr>\n",
       "  </thead>\n",
       "  <tbody>\n",
       "    <tr>\n",
       "      <th>0</th>\n",
       "      <td>1962-01-02</td>\n",
       "      <td>IBM</td>\n",
       "      <td>578.499734</td>\n",
       "      <td>578.499734</td>\n",
       "      <td>572.000241</td>\n",
       "      <td>572.000241</td>\n",
       "      <td>2.322898</td>\n",
       "      <td>2.349292</td>\n",
       "      <td>2.349292</td>\n",
       "      <td>2.322898</td>\n",
       "    </tr>\n",
       "    <tr>\n",
       "      <th>1</th>\n",
       "      <td>1962-01-03</td>\n",
       "      <td>IBM</td>\n",
       "      <td>572.000241</td>\n",
       "      <td>576.999736</td>\n",
       "      <td>572.000241</td>\n",
       "      <td>576.999736</td>\n",
       "      <td>2.343201</td>\n",
       "      <td>2.322898</td>\n",
       "      <td>2.343201</td>\n",
       "      <td>2.322898</td>\n",
       "    </tr>\n",
       "    <tr>\n",
       "      <th>2</th>\n",
       "      <td>1962-01-04</td>\n",
       "      <td>IBM</td>\n",
       "      <td>576.999736</td>\n",
       "      <td>576.999736</td>\n",
       "      <td>570.999742</td>\n",
       "      <td>571.250260</td>\n",
       "      <td>2.319852</td>\n",
       "      <td>2.343201</td>\n",
       "      <td>2.343201</td>\n",
       "      <td>2.318835</td>\n",
       "    </tr>\n",
       "    <tr>\n",
       "      <th>3</th>\n",
       "      <td>1962-01-05</td>\n",
       "      <td>IBM</td>\n",
       "      <td>570.500243</td>\n",
       "      <td>570.500243</td>\n",
       "      <td>558.999753</td>\n",
       "      <td>560.000253</td>\n",
       "      <td>2.274166</td>\n",
       "      <td>2.316807</td>\n",
       "      <td>2.316807</td>\n",
       "      <td>2.270103</td>\n",
       "    </tr>\n",
       "    <tr>\n",
       "      <th>4</th>\n",
       "      <td>1962-01-08</td>\n",
       "      <td>IBM</td>\n",
       "      <td>559.500003</td>\n",
       "      <td>559.500003</td>\n",
       "      <td>545.000267</td>\n",
       "      <td>549.500263</td>\n",
       "      <td>2.231525</td>\n",
       "      <td>2.272134</td>\n",
       "      <td>2.272134</td>\n",
       "      <td>2.213250</td>\n",
       "    </tr>\n",
       "  </tbody>\n",
       "</table>\n",
       "</div>"
      ],
      "text/plain": [
       "                Date Symbol        Open        High         Low       Close  \\\n",
       "NewIndex                                                                      \n",
       "0         1962-01-02    IBM  578.499734  578.499734  572.000241  572.000241   \n",
       "1         1962-01-03    IBM  572.000241  576.999736  572.000241  576.999736   \n",
       "2         1962-01-04    IBM  576.999736  576.999736  570.999742  571.250260   \n",
       "3         1962-01-05    IBM  570.500243  570.500243  558.999753  560.000253   \n",
       "4         1962-01-08    IBM  559.500003  559.500003  545.000267  549.500263   \n",
       "\n",
       "          Adj_Close     NOpen     NHigh      NLow  \n",
       "NewIndex                                           \n",
       "0          2.322898  2.349292  2.349292  2.322898  \n",
       "1          2.343201  2.322898  2.343201  2.322898  \n",
       "2          2.319852  2.343201  2.343201  2.318835  \n",
       "3          2.274166  2.316807  2.316807  2.270103  \n",
       "4          2.231525  2.272134  2.272134  2.213250  "
      ]
     },
     "execution_count": 12,
     "metadata": {},
     "output_type": "execute_result"
    }
   ],
   "source": [
    "# Visually review that the new Open, High and Low columns have been correctly adjusted in light of \n",
    "# the Adj_Close price. You can see that the 500 level prices are now expressed in the historically \n",
    "# relevant 2 level prices which correspond to the historically relevant Adj_Close price.\n",
    "\n",
    "stocktable2.head()"
   ]
  },
  {
   "cell_type": "code",
   "execution_count": 13,
   "metadata": {
    "collapsed": false
   },
   "outputs": [
    {
     "data": {
      "text/html": [
       "<div>\n",
       "<table border=\"1\" class=\"dataframe\">\n",
       "  <thead>\n",
       "    <tr style=\"text-align: right;\">\n",
       "      <th></th>\n",
       "      <th>Date</th>\n",
       "      <th>Symbol</th>\n",
       "      <th>Open</th>\n",
       "      <th>High</th>\n",
       "      <th>Low</th>\n",
       "      <th>Close</th>\n",
       "      <th>Adj_Close</th>\n",
       "      <th>NOpen</th>\n",
       "      <th>NHigh</th>\n",
       "      <th>NLow</th>\n",
       "    </tr>\n",
       "    <tr>\n",
       "      <th>NewIndex</th>\n",
       "      <th></th>\n",
       "      <th></th>\n",
       "      <th></th>\n",
       "      <th></th>\n",
       "      <th></th>\n",
       "      <th></th>\n",
       "      <th></th>\n",
       "      <th></th>\n",
       "      <th></th>\n",
       "      <th></th>\n",
       "    </tr>\n",
       "  </thead>\n",
       "  <tbody>\n",
       "    <tr>\n",
       "      <th>13666</th>\n",
       "      <td>2016-04-18</td>\n",
       "      <td>IBM</td>\n",
       "      <td>151.720001</td>\n",
       "      <td>153.139999</td>\n",
       "      <td>151.490005</td>\n",
       "      <td>152.529999</td>\n",
       "      <td>152.529999</td>\n",
       "      <td>151.720001</td>\n",
       "      <td>153.139999</td>\n",
       "      <td>151.490005</td>\n",
       "    </tr>\n",
       "    <tr>\n",
       "      <th>13667</th>\n",
       "      <td>2016-04-19</td>\n",
       "      <td>IBM</td>\n",
       "      <td>146.470001</td>\n",
       "      <td>146.949997</td>\n",
       "      <td>142.610001</td>\n",
       "      <td>144.000000</td>\n",
       "      <td>144.000000</td>\n",
       "      <td>146.470001</td>\n",
       "      <td>146.949997</td>\n",
       "      <td>142.610001</td>\n",
       "    </tr>\n",
       "    <tr>\n",
       "      <th>13668</th>\n",
       "      <td>2016-04-20</td>\n",
       "      <td>IBM</td>\n",
       "      <td>144.240005</td>\n",
       "      <td>147.199997</td>\n",
       "      <td>144.000000</td>\n",
       "      <td>146.110001</td>\n",
       "      <td>146.110001</td>\n",
       "      <td>144.240005</td>\n",
       "      <td>147.199997</td>\n",
       "      <td>144.000000</td>\n",
       "    </tr>\n",
       "  </tbody>\n",
       "</table>\n",
       "</div>"
      ],
      "text/plain": [
       "                Date Symbol        Open        High         Low       Close  \\\n",
       "NewIndex                                                                      \n",
       "13666     2016-04-18    IBM  151.720001  153.139999  151.490005  152.529999   \n",
       "13667     2016-04-19    IBM  146.470001  146.949997  142.610001  144.000000   \n",
       "13668     2016-04-20    IBM  144.240005  147.199997  144.000000  146.110001   \n",
       "\n",
       "           Adj_Close       NOpen       NHigh        NLow  \n",
       "NewIndex                                                  \n",
       "13666     152.529999  151.720001  153.139999  151.490005  \n",
       "13667     144.000000  146.470001  146.949997  142.610001  \n",
       "13668     146.110001  144.240005  147.199997  144.000000  "
      ]
     },
     "execution_count": 13,
     "metadata": {},
     "output_type": "execute_result"
    }
   ],
   "source": [
    "# Visually review and confirm that there were no changes made to current dates in the dataframe where no\n",
    "# adjustment is called for, i.e. current dates of today.\n",
    "\n",
    "stocktable2.tail(3)"
   ]
  },
  {
   "cell_type": "code",
   "execution_count": 14,
   "metadata": {
    "collapsed": false
   },
   "outputs": [
    {
     "data": {
      "text/html": [
       "<div>\n",
       "<table border=\"1\" class=\"dataframe\">\n",
       "  <thead>\n",
       "    <tr style=\"text-align: right;\">\n",
       "      <th></th>\n",
       "      <th>Date</th>\n",
       "      <th>Symbol</th>\n",
       "      <th>Open</th>\n",
       "      <th>High</th>\n",
       "      <th>Low</th>\n",
       "      <th>Close</th>\n",
       "      <th>Adj_Close</th>\n",
       "      <th>NOpen</th>\n",
       "      <th>NHigh</th>\n",
       "      <th>NLow</th>\n",
       "    </tr>\n",
       "    <tr>\n",
       "      <th>NewIndex</th>\n",
       "      <th></th>\n",
       "      <th></th>\n",
       "      <th></th>\n",
       "      <th></th>\n",
       "      <th></th>\n",
       "      <th></th>\n",
       "      <th></th>\n",
       "      <th></th>\n",
       "      <th></th>\n",
       "      <th></th>\n",
       "    </tr>\n",
       "  </thead>\n",
       "  <tbody>\n",
       "    <tr>\n",
       "      <th>0</th>\n",
       "      <td>1962-01-02</td>\n",
       "      <td>IBM</td>\n",
       "      <td>578.499734</td>\n",
       "      <td>578.499734</td>\n",
       "      <td>572.000241</td>\n",
       "      <td>572.000241</td>\n",
       "      <td>2.32</td>\n",
       "      <td>2.35</td>\n",
       "      <td>2.35</td>\n",
       "      <td>2.32</td>\n",
       "    </tr>\n",
       "    <tr>\n",
       "      <th>1</th>\n",
       "      <td>1962-01-03</td>\n",
       "      <td>IBM</td>\n",
       "      <td>572.000241</td>\n",
       "      <td>576.999736</td>\n",
       "      <td>572.000241</td>\n",
       "      <td>576.999736</td>\n",
       "      <td>2.34</td>\n",
       "      <td>2.32</td>\n",
       "      <td>2.34</td>\n",
       "      <td>2.32</td>\n",
       "    </tr>\n",
       "    <tr>\n",
       "      <th>2</th>\n",
       "      <td>1962-01-04</td>\n",
       "      <td>IBM</td>\n",
       "      <td>576.999736</td>\n",
       "      <td>576.999736</td>\n",
       "      <td>570.999742</td>\n",
       "      <td>571.250260</td>\n",
       "      <td>2.32</td>\n",
       "      <td>2.34</td>\n",
       "      <td>2.34</td>\n",
       "      <td>2.32</td>\n",
       "    </tr>\n",
       "    <tr>\n",
       "      <th>3</th>\n",
       "      <td>1962-01-05</td>\n",
       "      <td>IBM</td>\n",
       "      <td>570.500243</td>\n",
       "      <td>570.500243</td>\n",
       "      <td>558.999753</td>\n",
       "      <td>560.000253</td>\n",
       "      <td>2.27</td>\n",
       "      <td>2.32</td>\n",
       "      <td>2.32</td>\n",
       "      <td>2.27</td>\n",
       "    </tr>\n",
       "    <tr>\n",
       "      <th>4</th>\n",
       "      <td>1962-01-08</td>\n",
       "      <td>IBM</td>\n",
       "      <td>559.500003</td>\n",
       "      <td>559.500003</td>\n",
       "      <td>545.000267</td>\n",
       "      <td>549.500263</td>\n",
       "      <td>2.23</td>\n",
       "      <td>2.27</td>\n",
       "      <td>2.27</td>\n",
       "      <td>2.21</td>\n",
       "    </tr>\n",
       "  </tbody>\n",
       "</table>\n",
       "</div>"
      ],
      "text/plain": [
       "                Date Symbol        Open        High         Low       Close  \\\n",
       "NewIndex                                                                      \n",
       "0         1962-01-02    IBM  578.499734  578.499734  572.000241  572.000241   \n",
       "1         1962-01-03    IBM  572.000241  576.999736  572.000241  576.999736   \n",
       "2         1962-01-04    IBM  576.999736  576.999736  570.999742  571.250260   \n",
       "3         1962-01-05    IBM  570.500243  570.500243  558.999753  560.000253   \n",
       "4         1962-01-08    IBM  559.500003  559.500003  545.000267  549.500263   \n",
       "\n",
       "          Adj_Close  NOpen  NHigh  NLow  \n",
       "NewIndex                                 \n",
       "0              2.32   2.35   2.35  2.32  \n",
       "1              2.34   2.32   2.34  2.32  \n",
       "2              2.32   2.34   2.34  2.32  \n",
       "3              2.27   2.32   2.32  2.27  \n",
       "4              2.23   2.27   2.27  2.21  "
      ]
     },
     "execution_count": 14,
     "metadata": {},
     "output_type": "execute_result"
    }
   ],
   "source": [
    "# Round all needed column prices to 2 decimal points for simplicity.\n",
    "\n",
    "stocktable2['NLow'] = np.round(stocktable2['NLow'],2)\n",
    "stocktable2['NHigh'] = np.round(stocktable2['NHigh'],2)\n",
    "stocktable2['NOpen'] = np.round(stocktable2['NOpen'],2)\n",
    "stocktable2['Adj_Close'] = np.round(stocktable2['Adj_Close'],2)\n",
    "stocktable2.head()\n"
   ]
  },
  {
   "cell_type": "code",
   "execution_count": 15,
   "metadata": {
    "collapsed": false
   },
   "outputs": [
    {
     "data": {
      "text/html": [
       "<div>\n",
       "<table border=\"1\" class=\"dataframe\">\n",
       "  <thead>\n",
       "    <tr style=\"text-align: right;\">\n",
       "      <th></th>\n",
       "      <th>Date</th>\n",
       "      <th>Symbol</th>\n",
       "      <th>Open</th>\n",
       "      <th>High</th>\n",
       "      <th>Low</th>\n",
       "      <th>Close</th>\n",
       "      <th>Adj_Close</th>\n",
       "      <th>NOpen</th>\n",
       "      <th>NHigh</th>\n",
       "      <th>NLow</th>\n",
       "    </tr>\n",
       "    <tr>\n",
       "      <th>NewIndex</th>\n",
       "      <th></th>\n",
       "      <th></th>\n",
       "      <th></th>\n",
       "      <th></th>\n",
       "      <th></th>\n",
       "      <th></th>\n",
       "      <th></th>\n",
       "      <th></th>\n",
       "      <th></th>\n",
       "      <th></th>\n",
       "    </tr>\n",
       "  </thead>\n",
       "  <tbody>\n",
       "    <tr>\n",
       "      <th>13664</th>\n",
       "      <td>2016-04-14</td>\n",
       "      <td>IBM</td>\n",
       "      <td>151.500000</td>\n",
       "      <td>152.759995</td>\n",
       "      <td>150.380005</td>\n",
       "      <td>151.160004</td>\n",
       "      <td>151.16</td>\n",
       "      <td>151.50</td>\n",
       "      <td>152.76</td>\n",
       "      <td>150.38</td>\n",
       "    </tr>\n",
       "    <tr>\n",
       "      <th>13665</th>\n",
       "      <td>2016-04-15</td>\n",
       "      <td>IBM</td>\n",
       "      <td>151.039993</td>\n",
       "      <td>152.100006</td>\n",
       "      <td>150.960007</td>\n",
       "      <td>151.720001</td>\n",
       "      <td>151.72</td>\n",
       "      <td>151.04</td>\n",
       "      <td>152.10</td>\n",
       "      <td>150.96</td>\n",
       "    </tr>\n",
       "    <tr>\n",
       "      <th>13666</th>\n",
       "      <td>2016-04-18</td>\n",
       "      <td>IBM</td>\n",
       "      <td>151.720001</td>\n",
       "      <td>153.139999</td>\n",
       "      <td>151.490005</td>\n",
       "      <td>152.529999</td>\n",
       "      <td>152.53</td>\n",
       "      <td>151.72</td>\n",
       "      <td>153.14</td>\n",
       "      <td>151.49</td>\n",
       "    </tr>\n",
       "    <tr>\n",
       "      <th>13667</th>\n",
       "      <td>2016-04-19</td>\n",
       "      <td>IBM</td>\n",
       "      <td>146.470001</td>\n",
       "      <td>146.949997</td>\n",
       "      <td>142.610001</td>\n",
       "      <td>144.000000</td>\n",
       "      <td>144.00</td>\n",
       "      <td>146.47</td>\n",
       "      <td>146.95</td>\n",
       "      <td>142.61</td>\n",
       "    </tr>\n",
       "    <tr>\n",
       "      <th>13668</th>\n",
       "      <td>2016-04-20</td>\n",
       "      <td>IBM</td>\n",
       "      <td>144.240005</td>\n",
       "      <td>147.199997</td>\n",
       "      <td>144.000000</td>\n",
       "      <td>146.110001</td>\n",
       "      <td>146.11</td>\n",
       "      <td>144.24</td>\n",
       "      <td>147.20</td>\n",
       "      <td>144.00</td>\n",
       "    </tr>\n",
       "  </tbody>\n",
       "</table>\n",
       "</div>"
      ],
      "text/plain": [
       "                Date Symbol        Open        High         Low       Close  \\\n",
       "NewIndex                                                                      \n",
       "13664     2016-04-14    IBM  151.500000  152.759995  150.380005  151.160004   \n",
       "13665     2016-04-15    IBM  151.039993  152.100006  150.960007  151.720001   \n",
       "13666     2016-04-18    IBM  151.720001  153.139999  151.490005  152.529999   \n",
       "13667     2016-04-19    IBM  146.470001  146.949997  142.610001  144.000000   \n",
       "13668     2016-04-20    IBM  144.240005  147.199997  144.000000  146.110001   \n",
       "\n",
       "          Adj_Close   NOpen   NHigh    NLow  \n",
       "NewIndex                                     \n",
       "13664        151.16  151.50  152.76  150.38  \n",
       "13665        151.72  151.04  152.10  150.96  \n",
       "13666        152.53  151.72  153.14  151.49  \n",
       "13667        144.00  146.47  146.95  142.61  \n",
       "13668        146.11  144.24  147.20  144.00  "
      ]
     },
     "execution_count": 15,
     "metadata": {},
     "output_type": "execute_result"
    }
   ],
   "source": [
    "# Confirm this on the tail too.\n",
    "\n",
    "stocktable2.tail()\n"
   ]
  },
  {
   "cell_type": "code",
   "execution_count": 16,
   "metadata": {
    "collapsed": false
   },
   "outputs": [
    {
     "data": {
      "text/html": [
       "<div>\n",
       "<table border=\"1\" class=\"dataframe\">\n",
       "  <thead>\n",
       "    <tr style=\"text-align: right;\">\n",
       "      <th></th>\n",
       "      <th>Date</th>\n",
       "      <th>Symbol</th>\n",
       "      <th>NOpen</th>\n",
       "      <th>NHigh</th>\n",
       "      <th>NLow</th>\n",
       "      <th>Adj_Close</th>\n",
       "    </tr>\n",
       "    <tr>\n",
       "      <th>NewIndex</th>\n",
       "      <th></th>\n",
       "      <th></th>\n",
       "      <th></th>\n",
       "      <th></th>\n",
       "      <th></th>\n",
       "      <th></th>\n",
       "    </tr>\n",
       "  </thead>\n",
       "  <tbody>\n",
       "    <tr>\n",
       "      <th>0</th>\n",
       "      <td>1962-01-02</td>\n",
       "      <td>IBM</td>\n",
       "      <td>2.35</td>\n",
       "      <td>2.35</td>\n",
       "      <td>2.32</td>\n",
       "      <td>2.32</td>\n",
       "    </tr>\n",
       "    <tr>\n",
       "      <th>1</th>\n",
       "      <td>1962-01-03</td>\n",
       "      <td>IBM</td>\n",
       "      <td>2.32</td>\n",
       "      <td>2.34</td>\n",
       "      <td>2.32</td>\n",
       "      <td>2.34</td>\n",
       "    </tr>\n",
       "    <tr>\n",
       "      <th>2</th>\n",
       "      <td>1962-01-04</td>\n",
       "      <td>IBM</td>\n",
       "      <td>2.34</td>\n",
       "      <td>2.34</td>\n",
       "      <td>2.32</td>\n",
       "      <td>2.32</td>\n",
       "    </tr>\n",
       "  </tbody>\n",
       "</table>\n",
       "</div>"
      ],
      "text/plain": [
       "                Date Symbol  NOpen  NHigh  NLow  Adj_Close\n",
       "NewIndex                                                  \n",
       "0         1962-01-02    IBM   2.35   2.35  2.32       2.32\n",
       "1         1962-01-03    IBM   2.32   2.34  2.32       2.34\n",
       "2         1962-01-04    IBM   2.34   2.34  2.32       2.32"
      ]
     },
     "execution_count": 16,
     "metadata": {},
     "output_type": "execute_result"
    }
   ],
   "source": [
    "# Reduce the dataframe's columns to only those that will be needed in the model.\n",
    "\n",
    "stocktable2 = stocktable2[['Date', 'Symbol', 'NOpen', 'NHigh', 'NLow', 'Adj_Close']]\n",
    "stocktable2.head(3)\n"
   ]
  },
  {
   "cell_type": "code",
   "execution_count": 17,
   "metadata": {
    "collapsed": false
   },
   "outputs": [
    {
     "data": {
      "text/html": [
       "<div>\n",
       "<table border=\"1\" class=\"dataframe\">\n",
       "  <thead>\n",
       "    <tr style=\"text-align: right;\">\n",
       "      <th></th>\n",
       "      <th>Date</th>\n",
       "      <th>Symbol</th>\n",
       "      <th>NOpen</th>\n",
       "      <th>NHigh</th>\n",
       "      <th>NLow</th>\n",
       "      <th>Adj_Close</th>\n",
       "    </tr>\n",
       "    <tr>\n",
       "      <th>NewIndex</th>\n",
       "      <th></th>\n",
       "      <th></th>\n",
       "      <th></th>\n",
       "      <th></th>\n",
       "      <th></th>\n",
       "      <th></th>\n",
       "    </tr>\n",
       "  </thead>\n",
       "  <tbody>\n",
       "    <tr>\n",
       "      <th>13666</th>\n",
       "      <td>2016-04-18</td>\n",
       "      <td>IBM</td>\n",
       "      <td>151.72</td>\n",
       "      <td>153.14</td>\n",
       "      <td>151.49</td>\n",
       "      <td>152.53</td>\n",
       "    </tr>\n",
       "    <tr>\n",
       "      <th>13667</th>\n",
       "      <td>2016-04-19</td>\n",
       "      <td>IBM</td>\n",
       "      <td>146.47</td>\n",
       "      <td>146.95</td>\n",
       "      <td>142.61</td>\n",
       "      <td>144.00</td>\n",
       "    </tr>\n",
       "    <tr>\n",
       "      <th>13668</th>\n",
       "      <td>2016-04-20</td>\n",
       "      <td>IBM</td>\n",
       "      <td>144.24</td>\n",
       "      <td>147.20</td>\n",
       "      <td>144.00</td>\n",
       "      <td>146.11</td>\n",
       "    </tr>\n",
       "  </tbody>\n",
       "</table>\n",
       "</div>"
      ],
      "text/plain": [
       "                Date Symbol   NOpen   NHigh    NLow  Adj_Close\n",
       "NewIndex                                                      \n",
       "13666     2016-04-18    IBM  151.72  153.14  151.49     152.53\n",
       "13667     2016-04-19    IBM  146.47  146.95  142.61     144.00\n",
       "13668     2016-04-20    IBM  144.24  147.20  144.00     146.11"
      ]
     },
     "execution_count": 17,
     "metadata": {},
     "output_type": "execute_result"
    }
   ],
   "source": [
    "# Visually confirm the tail too.\n",
    "stocktable2.tail(3)"
   ]
  },
  {
   "cell_type": "code",
   "execution_count": null,
   "metadata": {
    "collapsed": true
   },
   "outputs": [],
   "source": [
    "# Save the new re-indexed, re-sorted, tranformed and simplified dataset into a new file that will be called\n",
    "# by the model. NOTE: This step was initially run but NOT RUN FOR THIS PRESENTATION as the file is already defined. \n",
    "\n",
    "load2 = 'IBM2'\n",
    "stocktable2.to_csv('/Users/tompichard/Documents/Personal/NEWPERSONAL/GADS/1.CAPSTONE/DevFiles/DATA/' + load2 + '.csv')\n"
   ]
  },
  {
   "cell_type": "code",
   "execution_count": 18,
   "metadata": {
    "collapsed": false
   },
   "outputs": [
    {
     "data": {
      "text/plain": [
       "(<matplotlib.collections.LineCollection at 0x114fd3790>,\n",
       " <matplotlib.collections.LineCollection at 0x114fd3190>,\n",
       " <matplotlib.collections.LineCollection at 0x118ce2750>)"
      ]
     },
     "execution_count": 18,
     "metadata": {},
     "output_type": "execute_result"
    },
    {
     "data": {
      "image/png": "[encoded data removed]",
      "text/plain": [
       "<matplotlib.figure.Figure at 0x1142921d0>"
      ]
     },
     "metadata": {},
     "output_type": "display_data"
    }
   ],
   "source": [
    "# Plot the entire time series.\n",
    "\n",
    "ax1 = plt.subplot(1,1,1, axisbg='#191919')\n",
    "pltf.plot_day_summary2_ohlc(ax1, stocktable2.NOpen, stocktable2.NHigh, stocktable2.NLow, stocktable2.Adj_Close, colorup='w', colordown='r')\n"
   ]
  },
  {
   "cell_type": "code",
   "execution_count": 19,
   "metadata": {
    "collapsed": false
   },
   "outputs": [],
   "source": [
    "#Sample a smaller range randomly to get a better more defined look at the charting.\n",
    "s = rd.randrange(1000, 13000)\n",
    "f = stocktable2[s:s+80]"
   ]
  },
  {
   "cell_type": "code",
   "execution_count": 20,
   "metadata": {
    "collapsed": false
   },
   "outputs": [
    {
     "data": {
      "text/plain": [
       "(<matplotlib.collections.LineCollection at 0x118f44550>,\n",
       " <matplotlib.collections.LineCollection at 0x118f446d0>,\n",
       " <matplotlib.collections.LineCollection at 0x118f50c10>)"
      ]
     },
     "execution_count": 20,
     "metadata": {},
     "output_type": "execute_result"
    },
    {
     "data": {
      "image/png": "[encoded data removed]",
      "text/plain": [
       "<matplotlib.figure.Figure at 0x117a73390>"
      ]
     },
     "metadata": {},
     "output_type": "display_data"
    }
   ],
   "source": [
    "# Plot this 80 day interval\n",
    "ax1 = plt.subplot(1,1,1, axisbg='#191919')\n",
    "pltf.plot_day_summary2_ohlc(ax1, f.NOpen, f.NHigh, f.NLow, f.Adj_Close, colorup='w', colordown='r')"
   ]
  },
  {
   "cell_type": "markdown",
   "metadata": {
    "collapsed": false
   },
   "source": [
    "The next part of the model will need to determine all relative lows\n"
   ]
  },
  {
   "cell_type": "code",
   "execution_count": null,
   "metadata": {
    "collapsed": true
   },
   "outputs": [],
   "source": []
  },
  {
   "cell_type": "code",
   "execution_count": null,
   "metadata": {
    "collapsed": false
   },
   "outputs": [],
   "source": [
    "table1 = pd.DataFrame(df)"
   ]
  },
  {
   "cell_type": "code",
   "execution_count": null,
   "metadata": {
    "collapsed": false
   },
   "outputs": [],
   "source": [
    "stock = table1[['Symbol', 'Date','Open', 'High','Low', 'Close']]"
   ]
  },
  {
   "cell_type": "code",
   "execution_count": null,
   "metadata": {
    "collapsed": false
   },
   "outputs": [],
   "source": [
    "stock.head()"
   ]
  },
  {
   "cell_type": "code",
   "execution_count": null,
   "metadata": {
    "collapsed": false
   },
   "outputs": [],
   "source": [
    "newstock = stock.sort_index(ascending=False)"
   ]
  },
  {
   "cell_type": "code",
   "execution_count": null,
   "metadata": {
    "collapsed": false
   },
   "outputs": [],
   "source": [
    "newstock.head(2)"
   ]
  },
  {
   "cell_type": "code",
   "execution_count": null,
   "metadata": {
    "collapsed": false
   },
   "outputs": [],
   "source": [
    "#newstock.index = ['Date']\n",
    "indexed_stock = newstock.set_index('Date')\n",
    "#print(users.set_index('user_id').head())"
   ]
  },
  {
   "cell_type": "code",
   "execution_count": null,
   "metadata": {
    "collapsed": false
   },
   "outputs": [],
   "source": [
    "newstock.head()"
   ]
  },
  {
   "cell_type": "code",
   "execution_count": null,
   "metadata": {
    "collapsed": false
   },
   "outputs": [],
   "source": [
    "plt.plot(newstock['Low'])"
   ]
  },
  {
   "cell_type": "code",
   "execution_count": null,
   "metadata": {
    "collapsed": false
   },
   "outputs": [],
   "source": [
    "ax1 = plt.pyplot.subplot(1,1,1, axisbg='#191919')\n",
    "pltf.plot_day_summary2_ohlc(ax1, newstock.Open, newstock.High, newstock.Low, newstock.Close, colorup='w', colordown='r')"
   ]
  },
  {
   "cell_type": "code",
   "execution_count": null,
   "metadata": {
    "collapsed": true
   },
   "outputs": [],
   "source": []
  }
 ],
 "metadata": {
  "kernelspec": {
   "display_name": "Python 2",
   "language": "python",
   "name": "python2"
  },
  "language_info": {
   "codemirror_mode": {
    "name": "ipython",
    "version": 2
   },
   "file_extension": ".py",
   "mimetype": "text/x-python",
   "name": "python",
   "nbconvert_exporter": "python",
   "pygments_lexer": "ipython2",
   "version": "2.7.11"
  }
 },
 "nbformat": 4,
 "nbformat_minor": 0
}
